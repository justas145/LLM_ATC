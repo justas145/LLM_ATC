{
 "cells": [
  {
   "cell_type": "markdown",
   "metadata": {},
   "source": [
    "## Prerequisites\n",
    "\n",
    "-  Python 3.9+\n",
    "-  An installation of `jupyter` to run the notebook.\n",
    "- gemini only works in certain regions, so you may need to use vpn to access it."
   ]
  },
  {
   "cell_type": "markdown",
   "metadata": {},
   "source": [
    "Import the necessary packages."
   ]
  },
  {
   "cell_type": "code",
   "execution_count": 15,
   "metadata": {},
   "outputs": [],
   "source": [
    "import pathlib\n",
    "import textwrap\n",
    "\n",
    "import google.generativeai as genai\n",
    "\n",
    "from IPython.display import display\n",
    "from IPython.display import Markdown\n",
    "from dotenv import load_dotenv, find_dotenv\n",
    "import os\n",
    "\n",
    "def to_markdown(text):\n",
    "  text = text.replace('•', '  *')\n",
    "  return Markdown(textwrap.indent(text, '> ', predicate=lambda _: True))"
   ]
  },
  {
   "cell_type": "markdown",
   "metadata": {},
   "source": [
    "### Setup your API key\n"
   ]
  },
  {
   "cell_type": "code",
   "execution_count": 16,
   "metadata": {},
   "outputs": [
    {
     "data": {
      "text/plain": [
       "True"
      ]
     },
     "execution_count": 16,
     "metadata": {},
     "output_type": "execute_result"
    }
   ],
   "source": [
    "load_dotenv(find_dotenv())"
   ]
  },
  {
   "cell_type": "code",
   "execution_count": 19,
   "metadata": {},
   "outputs": [],
   "source": [
    "GOOGLE_API_KEY = os.environ.get('GEMINI_API_KEY')"
   ]
  },
  {
   "cell_type": "code",
   "execution_count": 21,
   "metadata": {},
   "outputs": [],
   "source": [
    "genai.configure(api_key=GOOGLE_API_KEY)"
   ]
  },
  {
   "cell_type": "markdown",
   "metadata": {},
   "source": [
    "## List models\n",
    "\n",
    "\n",
    "* `gemini-pro`: optimized for text-only prompts.\n",
    "* `gemini-pro-vision`: optimized for text-and-images prompts."
   ]
  },
  {
   "cell_type": "code",
   "execution_count": 26,
   "metadata": {},
   "outputs": [
    {
     "name": "stdout",
     "output_type": "stream",
     "text": [
      "models/gemini-pro\n",
      "models/gemini-pro-vision\n"
     ]
    }
   ],
   "source": [
    "for m in genai.list_models():\n",
    "    if 'generateContent' in m.supported_generation_methods:\n",
    "        print(m.name)"
   ]
  },
  {
   "cell_type": "code",
   "execution_count": 27,
   "metadata": {},
   "outputs": [],
   "source": [
    "model = genai.GenerativeModel('gemini-pro')"
   ]
  },
  {
   "cell_type": "code",
   "execution_count": 32,
   "metadata": {},
   "outputs": [],
   "source": [
    "lst = [\"bonjour luxair five five one identified cleared passeiry torino flight level three three zero\", \n",
    "\"lufthansa four seven two three resume own navigation to willisau\"]"
   ]
  },
  {
   "cell_type": "code",
   "execution_count": 40,
   "metadata": {},
   "outputs": [],
   "source": [
    "atc_instructions = \"\"\"\n",
    "Entering and leaving airspace ATC instruction to a pilot from uncontrolled zone:\n",
    "\n",
    "  * ENTER CONTROLLED AIRSPACE (or CONTROL ZONE) [VIA (significant point or route)] AT (level) [AT (time)]\n",
    "  * LEAVE CONTROLLED AIRSPACE (or CONTROL ZONE) [VIA (significant point or route)] AT (level) (or CLIMBING, or DESCENDING)\n",
    "\n",
    "ATC instruction to instruct a pilot to join a specific point with restrictions given by ATC:\n",
    "\"\"\"\n",
    "\n",
    "# Now atc_instructions is a string containing your provided text"
   ]
  },
  {
   "cell_type": "code",
   "execution_count": 45,
   "metadata": {},
   "outputs": [],
   "source": [
    "tenerife_txt = \"\"\"Communication without LLM:\n",
    " \n",
    "Ambiguity in Clearance Request and Response:\n",
    "KLM (Captain): \"We are now at takeoff.\"\n",
    "ATC: \"OK... standby for takeoff, I will call you.\"\n",
    "Error Type: Ambiguity / Misinterpretation\n",
    "What Went Wrong: The KLM captain's statement was ambiguous, potentially implying they were initiating takeoff. The tower's response, \"OK,\" might have been misinterpreted by the KLM crew as a takeoff clearance, though the controller intended them to wait.\n",
    "Misinterpretation of Clearance:\n",
    "ATC: \"Papa Alpha 1736 report runway clear.\"\n",
    "Pan Am: \"OK, will report when we're clear.\"\n",
    "Error Type: Misinterpretation / Lack of Explicit Confirmation\n",
    "What Went Wrong: There was no explicit confirmation from Pan Am that they were still on the runway, and KLM did not hear their transmission indicating they were still taxiing.\n",
    "Non-Standard Phraseology and Assumption:\n",
    "KLM (Captain): \"We are at takeoff.\"\n",
    "Error Type: Non-Standard Phraseology / Assumption\n",
    "What Went Wrong: The captain's use of \"We are at takeoff\" was non-standard and ambiguous. It was not a standard request or confirmation of clearance for takeoff.\n",
    "Incomplete Readback and Missed Correction:\n",
    "ATC to KLM: \"KLM 4805, you are cleared to the Papa beacon. Climb to and maintain flight level 90, right turn after takeoff, proceed with heading 040 until intercepting the 325 radial from Las Palmas VOR.\"\n",
    "KLM (Co-pilot): \"Ah, roger, sir, we are cleared to the Papa beacon flight level 90, right turn out 040 until intercepting the 325.\"\n",
    "Error Type: Incomplete Readback / Lack of Correction\n",
    "What Went Wrong: The co-pilot's readback was not complete and did not include a takeoff clearance, but the controller did not correct or clarify this.\n",
    "Critical Misunderstanding in the Final Moments:\n",
    "KLM (Captain): \"Let's go, check thrust.\"\n",
    "Error Type: Critical Misunderstanding / Assumption\n",
    "What Went Wrong: The KLM captain assumed clearance for takeoff without explicit confirmation from the tower or assurance that the runway was clear. This assumption led directly to the collision.\n",
    "\n",
    "\n",
    "Communication with LLM\n",
    " \n",
    "Initial Ambiguous Communication\n",
    "KLM (Captain): \"We are now at takeoff.\"\n",
    "LLM (in KLM Cockpit): \"[Ambiguity Detected] Captain, your statement is ambiguous and might be misunderstood as a takeoff initiation. Please clarify your intention. You should say, 'Requesting takeoff clearance' to explicitly seek permission.\"\n",
    "KLM (Captain, corrected): \"KLM 4805 requesting takeoff clearance.\"\n",
    "Response from the Tower with Potential Misunderstanding\n",
    "ATC: \"OK... standby for takeoff, I will call you.\"\n",
    "LLM (in KLM Cockpit): \"[Potential Misunderstanding Detected] Note that the controller has instructed to 'standby for takeoff.' This is not a clearance. Remain in position until a clear takeoff clearance is given.\"\n",
    "KLM (Captain, acknowledging): \"Standing by for your takeoff call, KLM 4805.\"\n",
    "Pan Am Reporting Position with Overlapping Transmission\n",
    "Pan Am: \"We're still taxiing down the runway, the Clipper 1736.\"\n",
    "LLM (in ATC Tower): \"[Critical Information] Attention tower, Pan Am 1736 is still on the runway. Ensure this is clearly communicated to KLM 4805.\"\n",
    "ATC (acknowledging): \"KLM 4805, hold position, Pan Am 1736 still on the runway.\"\n",
    "Clearance Confirmation and Readback\n",
    "ATC to KLM: \"KLM 4805, you are cleared to the Papa beacon. Climb to and maintain flight level 90, right turn after takeoff, proceed with heading 040 until intercepting the 325 radial from Las Palmas VOR.\"\n",
    "KLM (Co-pilot): \"Ah, roger, sir, we are cleared to the Papa beacon flight level 90, right turn out 040 until intercepting the 325.\"\n",
    "LLM (in KLM Cockpit): \"[Incomplete Readback Detected] Co-pilot, your readback missed the takeoff clearance. Please confirm 'Cleared for takeoff' with the tower.\"\n",
    "KLM (Co-pilot, corrected): \"And confirming, we are cleared for takeoff, KLM 4805?\"\n",
    "Final Confirmation Before Takeoff\n",
    "KLM (Captain): \"Let's go, check thrust.\"\n",
    "LLM (in KLM Cockpit): \"[Final Confirmation Needed] Captain, final confirmation from the tower for takeoff clearance is required. The runway status should be reconfirmed.\"\n",
    "KLM (Captain, to Tower): \"KLM 4805 requesting final confirmation for takeoff, is the runway clear?\"\n",
    "\"\"\""
   ]
  },
  {
   "cell_type": "code",
   "execution_count": 41,
   "metadata": {},
   "outputs": [],
   "source": [
    "response = model.generate_content(f'based on theis manual: {atc_instructions} generate me a correct command, incorrect command and a reason explaining why the incorrect command is incorrect')"
   ]
  },
  {
   "cell_type": "code",
   "execution_count": 43,
   "metadata": {},
   "outputs": [
    {
     "data": {
      "text/markdown": [
       "> **Correct Command**:\n",
       "> \n",
       "> \"ENTER CONTROLLED AIRSPACE VIA BRAZOT POINT AT FIVE THOUSAND FEET AT ONE-SIX-ZERO-ZERO HOURS.\"\n",
       "> \n",
       "> **Explanation**:\n",
       "> \n",
       "> * The command clearly specifies the airspace to be entered (controlled airspace).\n",
       "> * It provides a specific entry point (BRAZOT POINT).\n",
       "> * It assigns a specific altitude (FIVE THOUSAND FEET).\n",
       "> * It includes a specific time (ONE-SIX-ZERO-ZERO HOURS) for the entry.\n",
       "> \n",
       "> **Incorrect Command**:\n",
       "> \n",
       "> \"ENTER CONTROLLED AIRSPACE AT FOUR THOUSAND FEET.\"\n",
       "> \n",
       "> **Explanation**:\n",
       "> \n",
       "> * The command lacks a specific entry point.\n",
       "> * It does not include a time for the entry.\n",
       "> * It provides an altitude that is not consistent with the aircraft's current altitude, potentially leading to conflict with other aircraft.\n",
       "> \n",
       "> Incorrect commands can result in confusion, misunderstandings, and potential safety hazards. Therefore, it is essential for ATC instructions to be clear, concise, and complete, providing all necessary information for the pilot to safely and efficiently enter or leave controlled airspace."
      ],
      "text/plain": [
       "<IPython.core.display.Markdown object>"
      ]
     },
     "execution_count": 43,
     "metadata": {},
     "output_type": "execute_result"
    }
   ],
   "source": [
    "to_markdown(response.text)"
   ]
  },
  {
   "cell_type": "code",
   "execution_count": 51,
   "metadata": {},
   "outputs": [
    {
     "data": {
      "text/markdown": [
       "> | Correct ATC Command | Incorrect ATC Command | Reason |\n",
       "> |---|---|---|\n",
       "> | \"KLM 4805, cleared for takeoff, runway 25L.\" | \"KLM 4805, takeoff, runway 25L.\" | The incorrect command is missing the word \"cleared,\" which is essential for giving permission to take off. |\n",
       "> | \"Cessna 172, taxi to runway 18 via taxiway Alpha.\" | \"Cessna 172, taxi runway 18 via taxiway Alpha.\" | The incorrect command is missing the word \"to,\" which is necessary to indicate the destination of the taxi instruction. |\n",
       "> | \"Airbus A320, hold short of runway 09.\" | \"Airbus A320, hold runway 09.\" | The incorrect command is missing the word \"short,\" which is crucial for instructing the aircraft to stop before entering the runway. |\n",
       "> | \"Boeing 737, descend and maintain 10,000 feet.\" | \"Boeing 737, descend 10,000 feet.\" | The incorrect command is missing the word \"maintain,\" which is necessary to indicate that the aircraft should level off at 10,000 feet. |\n",
       "> | \"Embraer 190, turn left heading 270.\" | \"Embraer 190, left 270.\" | The incorrect command is missing the word \"turn,\" which is essential for instructing the aircraft to change direction. |\n",
       "> | \"Gulfstream G550, contact approach control on frequency 121.5 MHz.\" | \"Gulfstream G550, approach 121.5.\" | The incorrect command is missing the words \"contact\" and \"control,\" which are necessary to indicate that the aircraft should establish communication with approach control. |\n",
       "> | \"Piper Archer, climb and maintain 5,500 feet.\" | \"Piper Archer, climb 5,500.\" | The incorrect command is missing the word \"maintain,\" which is necessary to indicate that the aircraft should level off at 5,500 feet. |\n",
       "> | \"Daher TBM 930, expedite your climb to flight level 250.\" | \"Daher TBM 930, expedite climb 250.\" | The incorrect command is missing the word \"to,\" which is necessary to indicate the target altitude for the climb. |\n",
       "> | \"ATR 72, reduce speed to 180 knots.\" | \"ATR 72, speed 180.\" | The incorrect command is missing the word \"reduce,\" which is necessary to indicate that the aircraft should slow down. |\n",
       "> | \"Boeing 777, maintain heading 060 until reaching the VOR.\" | \"Boeing 777, maintain 060 VOR.\" | The incorrect command is missing the word \"heading,\" which is necessary to indicate the direction that the aircraft should maintain. |"
      ],
      "text/plain": [
       "<IPython.core.display.Markdown object>"
      ]
     },
     "execution_count": 51,
     "metadata": {},
     "output_type": "execute_result"
    }
   ],
   "source": [
    "response2 = model.generate_content(f'based on this example of how LLM should work: {tenerife_txt} generate me a correct ATC command, incorrect ATC command and a reason explaining why the incorrect command is incorrect so I could have a dataset for fine tuning models. Provide me in a table format. Provide 10 examples')\n",
    "to_markdown(response2.text)"
   ]
  },
  {
   "cell_type": "code",
   "execution_count": 47,
   "metadata": {},
   "outputs": [
    {
     "data": {
      "text/markdown": [
       "> **Correct Command**:\n",
       "> \n",
       "> \"ENTER CONTROLLED AIRSPACE VIA BRAZOT POINT AT FIVE THOUSAND FEET AT ONE-SIX-ZERO-ZERO HOURS.\"\n",
       "> \n",
       "> **Explanation**:\n",
       "> \n",
       "> * The command clearly specifies the airspace to be entered (controlled airspace).\n",
       "> * It provides a specific entry point (BRAZOT POINT).\n",
       "> * It assigns a specific altitude (FIVE THOUSAND FEET).\n",
       "> * It includes a specific time (ONE-SIX-ZERO-ZERO HOURS) for the entry.\n",
       "> \n",
       "> **Incorrect Command**:\n",
       "> \n",
       "> \"ENTER CONTROLLED AIRSPACE AT FOUR THOUSAND FEET.\"\n",
       "> \n",
       "> **Explanation**:\n",
       "> \n",
       "> * The command lacks a specific entry point.\n",
       "> * It does not include a time for the entry.\n",
       "> * It provides an altitude that is not consistent with the aircraft's current altitude, potentially leading to conflict with other aircraft.\n",
       "> \n",
       "> Incorrect commands can result in confusion, misunderstandings, and potential safety hazards. Therefore, it is essential for ATC instructions to be clear, concise, and complete, providing all necessary information for the pilot to safely and efficiently enter or leave controlled airspace."
      ],
      "text/plain": [
       "<IPython.core.display.Markdown object>"
      ]
     },
     "execution_count": 47,
     "metadata": {},
     "output_type": "execute_result"
    }
   ],
   "source": [
    "to_markdown(response.text)"
   ]
  },
  {
   "cell_type": "code",
   "execution_count": 39,
   "metadata": {},
   "outputs": [
    {
     "name": "stdout",
     "output_type": "stream",
     "text": [
      "| Correct Command | Incorrect Command | Why Incorrect |\n",
      "|---|---|---|\n",
      "| bonjour luxair five five one identified cleared passeiry torino flight level three three zero | cleared luxair five five one identified passeiry torino flight level three three zero | The word \"cleared\" should not be used before the callsign. |\n",
      "| bonjour luxair five five one identified cleared passeiry torino flight level three three zero | bonjour luxair five five one passeiry torino flight level three three zero | The word \"identified\" should not be used after the callsign. |\n",
      "| bonjour luxair five five one identified cleared passeiry torino flight level three three zero | bonjour luxair five five one passeiry torino | The word \"flight level\" should be used before the altitude. |\n",
      "| bonjour luxair five five one identified cleared passeiry torino flight level three three zero | bonjour luxair five five one identified cleared passeiry torino three three zero | The word \"flight level\" should be used before the altitude. |\n",
      "| bonjour luxair five five one identified cleared passeiry torino flight level three three zero | bonjour luxair five five one passeiry torino flight level three three zero cleared | The word \"cleared\" should be used after the callsign. |\n",
      "| Correct Command | Incorrect Command | Why Incorrect |\n",
      "|---|---|---|\n",
      "| Lufthansa four seven two three resume own navigation to Willisau | Lufthansa four seven two three, resume own navigation to Willisau | Missing period at the end of the command |\n",
      "| Lufthansa four seven two three resume own navigation to Willisau | Lufthansa four seven two three, resume own navigation to Willisau Swiss | Unnecessary addition of \"Swiss\" at the end of the command |\n",
      "| Lufthansa four seven two three resume own navigation to Willisau | Lufthansa four seven two three, resume own navigation | Missing destination airport |\n",
      "| Lufthansa four seven two three resume own navigation to Willisau | Lufthansa four seven two three, continue own navigation to Willisau | Incorrect use of the term \"continue\" instead of \"resume\" |\n",
      "| Lufthansa four seven two three resume own navigation to Willisau | Lufthansa four seven two three, proceed to Willisau | Incorrect use of the term \"proceed\" instead of \"resume\" |\n",
      "| Lufthansa four seven two three resume own navigation to Willisau | Lufthansa four seven two three, resume navigation to Willisau | Incorrect omission of the word \"own\" |\n",
      "| Lufthansa four seven two three resume own navigation to Willisau | Lufthansa four seven two three, resume own navigation | Incorrect omission of the destination airport |\n",
      "CPU times: total: 0 ns\n",
      "Wall time: 11.1 s\n"
     ]
    }
   ],
   "source": [
    "%%time\n",
    "response_lst = []\n",
    "for i in lst:\n",
    "    response = model.generate_content(f\"{i}\\n. Decide if this command is correct or not. If it is correct you need to modify in order to make it incorrect command and vice versa. The format should be in a table with columns: correct command, incorrect command and why incorrect. Only focus now on terminology and phraseology\")\n",
    "    print(response.text)\n",
    "    response_lst.append(response)"
   ]
  },
  {
   "cell_type": "code",
   "execution_count": 37,
   "metadata": {},
   "outputs": [],
   "source": [
    "response = model.generate_content(\"what is 2+2\")"
   ]
  },
  {
   "cell_type": "code",
   "execution_count": 38,
   "metadata": {},
   "outputs": [
    {
     "data": {
      "text/markdown": [
       "> 4"
      ],
      "text/plain": [
       "<IPython.core.display.Markdown object>"
      ]
     },
     "execution_count": 38,
     "metadata": {},
     "output_type": "execute_result"
    }
   ],
   "source": [
    "to_markdown(response.text)"
   ]
  },
  {
   "cell_type": "code",
   "execution_count": 36,
   "metadata": {},
   "outputs": [],
   "source": [
    "for response in response_lst:\n",
    "    to_markdown(response.text)"
   ]
  },
  {
   "cell_type": "code",
   "execution_count": null,
   "metadata": {},
   "outputs": [],
   "source": []
  }
 ],
 "metadata": {
  "kernelspec": {
   "display_name": "venv",
   "language": "python",
   "name": "python3"
  },
  "language_info": {
   "codemirror_mode": {
    "name": "ipython",
    "version": 3
   },
   "file_extension": ".py",
   "mimetype": "text/x-python",
   "name": "python",
   "nbconvert_exporter": "python",
   "pygments_lexer": "ipython3",
   "version": "3.9.6"
  }
 },
 "nbformat": 4,
 "nbformat_minor": 2
}
